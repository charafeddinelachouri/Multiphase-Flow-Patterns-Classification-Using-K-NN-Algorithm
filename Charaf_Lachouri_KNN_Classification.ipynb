{
 "cells": [
  {
   "cell_type": "code",
   "execution_count": null,
   "id": "9146a7b4",
   "metadata": {},
   "outputs": [],
   "source": [
    "In this section, We used Python's Scikit-Learn library to implement the KNN algorithm.\n",
    "\n",
    "The Dataset\n",
    "\n",
    "We are going to use oil & gas dataset for our KNN example. The dataset consists of nine attributes: Vsl, Vsg, VisL, \n",
    "VisG, DenL, DenG, ST, Ang and ID. The task is to predict the classes of the flow patterns based on the dataset inputs. \n",
    "There are six classes in the dataset: 1, 2, 3, 4, 5, 6"
   ]
  },
  {
   "cell_type": "code",
   "execution_count": 1,
   "id": "851dcdf3",
   "metadata": {},
   "outputs": [],
   "source": [
    "#importing packages\n",
    "import pandas as pd\n",
    "import numpy as np\n",
    "import seaborn as sns\n",
    "import matplotlib.pyplot as plt"
   ]
  },
  {
   "cell_type": "code",
   "execution_count": 2,
   "id": "94851de0",
   "metadata": {},
   "outputs": [],
   "source": [
    "#Importing of dataset to dataframe. \n",
    "df = pd.read_csv(\"BD12Experiments6FP.csv\")"
   ]
  },
  {
   "cell_type": "code",
   "execution_count": 3,
   "id": "af1a0257",
   "metadata": {},
   "outputs": [
    {
     "name": "stdout",
     "output_type": "stream",
     "text": [
      "(9029, 9)\n",
      "(9029,)\n"
     ]
    }
   ],
   "source": [
    "#Separating independant variable and dependent variable(\"FlowPattern\")\n",
    "X = df.drop(['FlowPattern'], axis=1)\n",
    "y = df['FlowPattern']\n",
    "# print(X.head())\n",
    "print(X.shape)\n",
    "# print(y.head())\n",
    "print(y.shape)"
   ]
  },
  {
   "cell_type": "code",
   "execution_count": 4,
   "id": "3d7bdfb0",
   "metadata": {},
   "outputs": [],
   "source": [
    "# Splitting the dataset to Train and test\n",
    "from sklearn.model_selection import train_test_split\n",
    "X_train, X_test, y_train, y_test = train_test_split(X, y, test_size=0.3, random_state=0)"
   ]
  },
  {
   "cell_type": "code",
   "execution_count": 5,
   "id": "8b36f134",
   "metadata": {},
   "outputs": [
    {
     "name": "stdout",
     "output_type": "stream",
     "text": [
      "(6320, 9)\n",
      "(6320,)\n",
      "(2709, 9)\n",
      "(2709,)\n"
     ]
    }
   ],
   "source": [
    "#to know the shape of the train and test dataset.\n",
    "print(X_train.shape)\n",
    "print(y_train.shape)\n",
    "print(X_test.shape)\n",
    "print(y_test.shape)"
   ]
  },
  {
   "cell_type": "code",
   "execution_count": 6,
   "id": "333fb3a7",
   "metadata": {},
   "outputs": [],
   "source": [
    "# Scaling the features\n",
    "from sklearn.preprocessing import StandardScaler\n",
    "scaler = StandardScaler()\n",
    "scaler.fit(X_train)\n",
    "\n",
    "X_train = scaler.transform(X_train)\n",
    "X_test = scaler.transform(X_test)"
   ]
  },
  {
   "cell_type": "code",
   "execution_count": 7,
   "id": "7d615256",
   "metadata": {},
   "outputs": [
    {
     "data": {
      "text/plain": [
       "KNeighborsClassifier()"
      ]
     },
     "execution_count": 7,
     "metadata": {},
     "output_type": "execute_result"
    }
   ],
   "source": [
    "# Training \n",
    "from sklearn.neighbors import KNeighborsClassifier\n",
    "classifier = KNeighborsClassifier(n_neighbors=5)\n",
    "classifier.fit(X_train, y_train)"
   ]
  },
  {
   "cell_type": "code",
   "execution_count": 8,
   "id": "aa96267a",
   "metadata": {},
   "outputs": [],
   "source": [
    "# Predictions\n",
    "y_pred = classifier.predict(X_test)"
   ]
  },
  {
   "cell_type": "code",
   "execution_count": 9,
   "id": "0b00cd70",
   "metadata": {},
   "outputs": [
    {
     "name": "stdout",
     "output_type": "stream",
     "text": [
      "[[ 206    0    5    0   32    0]\n",
      " [   0  130    4    4   21    0]\n",
      " [   0   21  240   24   32    0]\n",
      " [   0    3   30  452   41    0]\n",
      " [  32   18   16   65 1272   19]\n",
      " [   0    0    0    0    9   33]]\n",
      "              precision    recall  f1-score   support\n",
      "\n",
      "           1       0.87      0.85      0.86       243\n",
      "           2       0.76      0.82      0.79       159\n",
      "           3       0.81      0.76      0.78       317\n",
      "           4       0.83      0.86      0.84       526\n",
      "           5       0.90      0.89      0.90      1422\n",
      "           7       0.63      0.79      0.70        42\n",
      "\n",
      "    accuracy                           0.86      2709\n",
      "   macro avg       0.80      0.83      0.81      2709\n",
      "weighted avg       0.86      0.86      0.86      2709\n",
      "\n"
     ]
    }
   ],
   "source": [
    "# Evaluating the Algorithm\n",
    "from sklearn.metrics import classification_report, confusion_matrix\n",
    "print(confusion_matrix(y_test, y_pred))\n",
    "print(classification_report(y_test, y_pred))"
   ]
  },
  {
   "cell_type": "code",
   "execution_count": 10,
   "id": "1e603066",
   "metadata": {},
   "outputs": [],
   "source": [
    "# Comparing Error Rate with the K Value\n",
    "\n",
    "error = []\n",
    "\n",
    "# Calculating error for K values between 1 and 40\n",
    "for i in range(1, 40):\n",
    "    knn = KNeighborsClassifier(n_neighbors=i)\n",
    "    knn.fit(X_train, y_train)\n",
    "    pred_i = knn.predict(X_test)\n",
    "    error.append(np.mean(pred_i != y_test))"
   ]
  },
  {
   "cell_type": "code",
   "execution_count": 11,
   "id": "4b82fd0e",
   "metadata": {},
   "outputs": [
    {
     "data": {
      "text/plain": [
       "Text(0, 0.5, 'Mean Error')"
      ]
     },
     "execution_count": 11,
     "metadata": {},
     "output_type": "execute_result"
    },
    {
     "data": {
      "image/png": "[encoded data removed]",
      "text/plain": [
       "<Figure size 864x432 with 1 Axes>"
      ]
     },
     "metadata": {
      "needs_background": "light"
     },
     "output_type": "display_data"
    }
   ],
   "source": [
    "# Plotting the error values against K values\n",
    "plt.figure(figsize=(12, 6))\n",
    "plt.plot(range(1, 40), error, color='red', linestyle='dashed', marker='o',\n",
    "         markerfacecolor='blue', markersize=10)\n",
    "plt.title('Error Rate K Value')\n",
    "plt.xlabel('K Value')\n",
    "plt.ylabel('Mean Error')"
   ]
  },
  {
   "cell_type": "code",
   "execution_count": 12,
   "id": "1d190922",
   "metadata": {},
   "outputs": [
    {
     "data": {
      "text/plain": [
       "KNeighborsClassifier(n_neighbors=1, weights='distance')"
      ]
     },
     "execution_count": 12,
     "metadata": {},
     "output_type": "execute_result"
    }
   ],
   "source": [
    "# Parameters Optimization\n",
    "from sklearn.neighbors import KNeighborsClassifier\n",
    "classifier = KNeighborsClassifier(n_neighbors=1, weights=\"distance\")\n",
    "classifier.fit(X_train, y_train)"
   ]
  },
  {
   "cell_type": "code",
   "execution_count": 13,
   "id": "b68e47c8",
   "metadata": {},
   "outputs": [],
   "source": [
    "# Predictions\n",
    "y_pred = classifier.predict(X_test)"
   ]
  },
  {
   "cell_type": "code",
   "execution_count": 14,
   "id": "c3b655ce",
   "metadata": {},
   "outputs": [
    {
     "name": "stdout",
     "output_type": "stream",
     "text": [
      "[[ 226    0    1    0   16    0]\n",
      " [   0  127    2    0   30    0]\n",
      " [   0   13  263   13   28    0]\n",
      " [   0    2   29  466   29    0]\n",
      " [  19   12   25   38 1314   14]\n",
      " [   0    0    0    0    8   34]]\n",
      "              precision    recall  f1-score   support\n",
      "\n",
      "           1       0.92      0.93      0.93       243\n",
      "           2       0.82      0.80      0.81       159\n",
      "           3       0.82      0.83      0.83       317\n",
      "           4       0.90      0.89      0.89       526\n",
      "           5       0.92      0.92      0.92      1422\n",
      "           7       0.71      0.81      0.76        42\n",
      "\n",
      "    accuracy                           0.90      2709\n",
      "   macro avg       0.85      0.86      0.86      2709\n",
      "weighted avg       0.90      0.90      0.90      2709\n",
      "\n"
     ]
    }
   ],
   "source": [
    "# Evaluating the Algorithm\n",
    "from sklearn.metrics import classification_report, confusion_matrix\n",
    "print(confusion_matrix(y_test, y_pred))\n",
    "print(classification_report(y_test, y_pred))"
   ]
  },
  {
   "cell_type": "code",
   "execution_count": null,
   "id": "77c88eb1",
   "metadata": {},
   "outputs": [],
   "source": [
    "# Confusion Matrix Befor Parameters Optimization\n",
    "\n",
    "# 86 % Accuracy\n",
    "\n",
    "For class 1, the algorithme received 243 samples and classified 207, missclassified 37\n",
    "For class 2, the algorithme received 159 samples and classified 130, missclassified 29\n",
    "For class 3, the algorithme received 317 samples and classified 240, missclassified 77\n",
    "For class 4, the algorithme received 526 samples and classified 452, missclassified 74\n",
    "For class 5, the algorithme received 1422 samples and classified 1272, missclassified 150\n",
    "For class 7, the algorithme received 42 samples and classified 33, missclassified 9\n"
   ]
  },
  {
   "cell_type": "code",
   "execution_count": null,
   "id": "50d51a78",
   "metadata": {},
   "outputs": [],
   "source": [
    "# Confusion Matrix After Parameters Optimization\n",
    "\n",
    "# 90 % Accuracy\n",
    "\n",
    "For class 1, the algorithme received 243 samples and classified 226, missclassified 17\n",
    "For class 2, the algorithme received 159 samples and classified 127, missclassified 32\n",
    "For class 3, the algorithme received 317 samples and classified 263, missclassified 54\n",
    "For class 4, the algorithme received 526 samples and classified 466, missclassified 60\n",
    "For class 5, the algorithme received 1422 samples and classified 1314, missclassified 108\n",
    "For class 7, the algorithme received 42 samples and classified 34, missclassified 8"
   ]
  }
 ],
 "metadata": {
  "kernelspec": {
   "display_name": "Python 3 (ipykernel)",
   "language": "python",
   "name": "python3"
  },
  "language_info": {
   "codemirror_mode": {
    "name": "ipython",
    "version": 3
   },
   "file_extension": ".py",
   "mimetype": "text/x-python",
   "name": "python",
   "nbconvert_exporter": "python",
   "pygments_lexer": "ipython3",
   "version": "3.9.7"
  }
 },
 "nbformat": 4,
 "nbformat_minor": 5
}
